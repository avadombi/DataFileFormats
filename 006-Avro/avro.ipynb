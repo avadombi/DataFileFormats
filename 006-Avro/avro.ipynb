{
 "cells": [
  {
   "cell_type": "markdown",
   "metadata": {},
   "source": [
    "# **AVRO format**\n",
    "\n",
    "AVRO is a data serialization format developed by Apache that provides a compact, efficient, and schema-based way to store and exchange data. It is designed to support dynamic and evolving data structures. AVRO files are typically used in big data processing systems like Apache Hadoop and Apache Kafka."
   ]
  },
  {
   "cell_type": "markdown",
   "metadata": {},
   "source": [
    "## **AVRO using Python**\n",
    "\n",
    "In Python, you can work with AVRO files using the fastavro library."
   ]
  },
  {
   "cell_type": "markdown",
   "metadata": {},
   "source": [
    "## **Install fastavro**"
   ]
  },
  {
   "cell_type": "code",
   "execution_count": 4,
   "metadata": {},
   "outputs": [
    {
     "name": "stdout",
     "output_type": "stream",
     "text": [
      "Requirement already satisfied: fastavro in c:\\users\\adombi\\appdata\\local\\programs\\python\\python312\\lib\\site-packages (1.9.4)\n",
      "Note: you may need to restart the kernel to use updated packages.\n"
     ]
    },
    {
     "name": "stderr",
     "output_type": "stream",
     "text": [
      "\n",
      "[notice] A new release of pip is available: 23.2.1 -> 24.0\n",
      "[notice] To update, run: python.exe -m pip install --upgrade pip\n"
     ]
    }
   ],
   "source": [
    "%pip install fastavro"
   ]
  },
  {
   "cell_type": "markdown",
   "metadata": {},
   "source": [
    "# **Write data to an AVRO file**\n"
   ]
  },
  {
   "cell_type": "code",
   "execution_count": 5,
   "metadata": {},
   "outputs": [],
   "source": [
    "import fastavro\n",
    "\n",
    "# schema\n",
    "schema = {\n",
    "    'type': 'record',\n",
    "    'name': 'Example',\n",
    "    'fields': [\n",
    "        {'name': 'name', 'type': 'string'},\n",
    "        {'name': 'age', 'type': 'int'},\n",
    "    ]\n",
    "}\n",
    "\n",
    "# data\n",
    "data = {'name': 'Naruto', 'age': 30}\n",
    "\n",
    "# save\n",
    "with open('data.avro', 'wb') as avro_file:\n",
    "    fastavro.writer(avro_file, schema, [data])"
   ]
  },
  {
   "cell_type": "markdown",
   "metadata": {},
   "source": [
    "# **Read data from an AVRO file**"
   ]
  },
  {
   "cell_type": "code",
   "execution_count": 6,
   "metadata": {},
   "outputs": [
    {
     "name": "stdout",
     "output_type": "stream",
     "text": [
      "{'name': 'Naruto', 'age': 30}\n"
     ]
    }
   ],
   "source": [
    "with open('data.avro', 'rb') as avro_file:\n",
    "    avro_reader = fastavro.reader(avro_file)\n",
    "    for record in avro_reader:\n",
    "        # Process each record\n",
    "        print(record)"
   ]
  }
 ],
 "metadata": {
  "kernelspec": {
   "display_name": "Python 3",
   "language": "python",
   "name": "python3"
  },
  "language_info": {
   "codemirror_mode": {
    "name": "ipython",
    "version": 3
   },
   "file_extension": ".py",
   "mimetype": "text/x-python",
   "name": "python",
   "nbconvert_exporter": "python",
   "pygments_lexer": "ipython3",
   "version": "3.12.1"
  }
 },
 "nbformat": 4,
 "nbformat_minor": 2
}
